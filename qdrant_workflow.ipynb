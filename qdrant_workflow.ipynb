{
 "cells": [
  {
   "cell_type": "markdown",
   "metadata": {},
   "source": [
    "# 紫微斗数 RAG 工作流 (Qdrant + LangChain)\n",
    "本笔记本演示从命盘生成检索查询、压缩检索结果、生成摘要，再基于摘要回答问题的完整流程。"
   ]
  },
  {
   "cell_type": "code",
   "execution_count": 1,
   "metadata": {},
   "outputs": [
    {
     "name": "stderr",
     "output_type": "stream",
     "text": [
      "/home/mameuio/miniconda3/LLM/zhiweidoushu/.venv/lib/python3.10/site-packages/tqdm/auto.py:21: TqdmWarning: IProgress not found. Please update jupyter and ipywidgets. See https://ipywidgets.readthedocs.io/en/stable/user_install.html\n",
      "  from .autonotebook import tqdm as notebook_tqdm\n"
     ]
    }
   ],
   "source": [
    "from __future__ import annotations\n",
    "\n",
    "import json\n",
    "from pathlib import Path\n",
    "from typing import Iterable, List, Dict, Any\n",
    "\n",
    "from dotenv import load_dotenv\n",
    "from qdrant_client import QdrantClient\n",
    "from langchain_qdrant import QdrantVectorStore, FastEmbedSparse, RetrievalMode\n",
    "from langchain_community.embeddings.fastembed import FastEmbedEmbeddings\n",
    "from langchain_text_splitters import RecursiveCharacterTextSplitter, HTMLSectionSplitter\n",
    "from langchain.storage import LocalFileStore\n",
    "from langchain.storage._lc_store import create_kv_docstore\n",
    "from langchain.retrievers import ParentDocumentRetriever\n",
    "from langchain.retrievers.contextual_compression import ContextualCompressionRetriever\n",
    "from langchain_community.document_compressors import FlashrankRerank\n",
    "from langchain.prompts import PromptTemplate\n",
    "from langchain_openai import ChatOpenAI\n",
    "\n",
    "from astro_chart import full_chart_generation\n"
   ]
  },
  {
   "cell_type": "code",
   "execution_count": 2,
   "metadata": {},
   "outputs": [
    {
     "name": "stderr",
     "output_type": "stream",
     "text": [
      "INFO:flashrank.Ranker:Downloading ms-marco-MultiBERT-L-12...\n",
      "ms-marco-MultiBERT-L-12.zip: 100%|██████████| 98.7M/98.7M [00:10<00:00, 9.76MiB/s]\n"
     ]
    }
   ],
   "source": [
    "# 环境与向量检索配置\n",
    "load_dotenv()\n",
    "\n",
    "QDRANT_URL = \"http://localhost:6333\"\n",
    "COLLECTION_NAME = \"zhiwei_DAG\"\n",
    "EMBEDDING_MODEL_HANDLE = \"jinaai/jina-embeddings-v2-base-zh\"\n",
    "SPARSE_MODEL_HANDLE = \"Qdrant/BM25\"\n",
    "STORE_PATH = \"./store_location\"\n",
    "\n",
    "embeddings = FastEmbedEmbeddings(model_name=EMBEDDING_MODEL_HANDLE)\n",
    "sparse_embeddings = FastEmbedSparse(model_name=SPARSE_MODEL_HANDLE)\n",
    "\n",
    "client = QdrantClient(url=QDRANT_URL, prefer_grpc=True)\n",
    "vectorstore = QdrantVectorStore(\n",
    "    embedding=embeddings,\n",
    "    client=client,\n",
    "    collection_name=COLLECTION_NAME,\n",
    "    sparse_embedding=sparse_embeddings,\n",
    "    retrieval_mode=RetrievalMode.HYBRID\n",
    ")\n",
    "\n",
    "fs = LocalFileStore(STORE_PATH)\n",
    "doc_store = create_kv_docstore(fs)\n",
    "child_splitter = RecursiveCharacterTextSplitter(chunk_size=400)\n",
    "retriever = ParentDocumentRetriever(\n",
    "    vectorstore=vectorstore,\n",
    "    docstore=doc_store,\n",
    "    child_splitter=child_splitter,\n",
    "    search_kwargs={\"k\": 10}\n",
    ")\n",
    "\n",
    "compressor = FlashrankRerank()\n",
    "compression_retriever = ContextualCompressionRetriever(\n",
    "    base_retriever=retriever, base_compressor=compressor\n",
    ")\n"
   ]
  },
  {
   "cell_type": "markdown",
   "metadata": {},
   "source": [
    "## 选填：如需首次构建父子文档，可取消注释后运行"
   ]
  },
  {
   "cell_type": "code",
   "execution_count": null,
   "metadata": {},
   "outputs": [],
   "source": [
    "# html_path = Path('zhiwei book.html')\n",
    "# if html_path.exists():\n",
    "#     text_html = html_path.read_text(encoding='utf-8')\n",
    "#     headers_to_split_on = [ (\"h1\", \"Header 1\") ]\n",
    "#     html_splitter = HTMLSectionSplitter(headers_to_split_on)\n",
    "#     parent_docs = html_splitter.split_text(text_html)\n",
    "#     retriever.add_documents(parent_docs)\n",
    "# else:\n",
    "#     raise FileNotFoundError('缺少 zhiwei book.html，请确认路径。')\n"
   ]
  },
  {
   "cell_type": "code",
   "execution_count": 3,
   "metadata": {},
   "outputs": [],
   "source": [
    "def pretty_print_docs(docs, save_path: str | None = None) -> str:\n",
    "    doc_text = \"\\n{}\\n\".format('-' * 100).join(\n",
    "        [f\"Document {i + 1}:\\n{d.page_content}\" for i, d in enumerate(docs)]\n",
    "    )\n",
    "    if save_path:\n",
    "        with open(save_path, 'w', encoding='utf-8') as f_out:\n",
    "            f_out.write(doc_text)\n",
    "    return doc_text\n"
   ]
  },
  {
   "cell_type": "code",
   "execution_count": 4,
   "metadata": {},
   "outputs": [],
   "source": [
    "# LLM 与提示模板\n",
    "llm = ChatOpenAI(model=\"gpt-4o-mini\", temperature=0.3)\n",
    "\n",
    "query_prompt_text = \"\"\"\n",
    "角色: 你是一个专业的紫微斗数检索查询生成器，用于 RAG(检索增强生成)。\n",
    "\n",
    "目标: 基于用户的命盘关键信息与具体问题，生成若干高质量、可直接用于检索的查询字符串，覆盖问题最核心的宫位与关键星曜组合，并按相关性排序。\n",
    "\n",
    "约束:\n",
    "- 仅使用用户的命盘中出现的宫位、主星、辅星、煞星；不要编造。\n",
    "- 若用户的命盘未提供四化，不要构造四化查询；若提供，至少包含一条带四化的查询。\n",
    "- 使用标准中文术语与命名；短语之间用空格分隔；避免冗余词。\n",
    "- 每条查询尽量精炼但信息完整；生成 1-3 条，按相关性从高到低排序。\n",
    "- 仅输出 JSON 字符串数组；不要任何解释、标题或 Markdown 代码块。\n",
    "\n",
    "步骤:\n",
    "1) 解析问题与领域（如事业财运、感情婚姻、健康、人际等），确定最核心宫位。\n",
    "2) 从命盘中提取该核心宫位及其三方四正的关键主星、**如果宮位沒有核心（空宮）主星，用對面宮位的主星來代替**, 重要辅星（左辅、右弼、文昌、文曲）、煞星（擎羊、陀罗、火星、铃星、地空、地劫。\n",
    "3) 组合查询，覆盖核心宫位、关键星曜影响，去重并按相关性排序。\n",
    "\n",
    "查询模板（仅使用以下几类，其一或多条）:\n",
    "- 模式A: 宫位-星曜-主题\n",
    "  形式: [宫位] [星曜组合] [问题领域] 解释\n",
    "  例: 夫妻宫 廉贞七杀 感情婚姻 解释\n",
    "- 模式B: 星曜-四化-宫位\n",
    "  形式: [星曜] 化[禄/权/科/忌]入 [宫位] 对[问题领域]的影响\n",
    "  例: 太阳化忌入父母宫 对学业的影响\n",
    "- 模式C: 宫位-煞/辅\n",
    "  形式: [宫位] 遇 [煞星/辅星] 作用\n",
    "  例: 命宫 擎羊同宫 影响\n",
    "- 模式D: 宫位关系/格局\n",
    "  形式: [宫位A] [宫位B] [关系类型] 影响\n",
    "      或 [星曜组合] [宫位] [格局名称] 格局\n",
    "  例: 命宫 迁移宫 对照 影响\n",
    "      紫微破军在丑未宫 紫府朝垣格\n",
    "\n",
    "输入:\n",
    "- 用户命盘: {user_chart}\n",
    "- 用户问题: {user_question}\n",
    "\n",
    "输出（严格遵守）:\n",
    "- 仅输出 JSON 字符串数组；不含任何解释、前后缀、注释或代码块标记。\n",
    "- 项目去重、语义多样化、按相关性降序。\n",
    "\n",
    "示例输出:\n",
    "[\\\"夫妻宫 廉贞七杀 感情婚姻 解释\\\",\n",
    " \\\"廉贞化忌入夫妻宫 对婚姻的影响\\\",\n",
    " \\\"夫妻宫三方四正 福德宫 天府 影响\\\",\n",
    " \\\"命宫 紫微 感情观\\\",\n",
    " \\\"七杀星 感情 特质\\\"]\n",
    "\"\"\"\n",
    "\n",
    "summary_prompt_text = \"\"\"\n",
    "角色: 你是专业的紫微斗数顾问，任务是基于检索到的文段整理关键信息，供后续回答使用。\n",
    "\n",
    "目标: 在不直接回答用户问题的前提下，归纳文段中与命盘和问题相关的要点。\n",
    "\n",
    "输入:\n",
    "- 用户命盘: {user_chart}\n",
    "- 用户问题: {user_question}\n",
    "- 检索文段: {retrieved_passages}\n",
    "\n",
    "指令:\n",
    "1. 阅读全部文段，挑出与用户问题及命盘相关的关键信息；忽略无关材料。\n",
    "2. 将信息按主题分组，并以精炼语句概述\n",
    "3. 指出这些要点与命盘要素（宫位、主星、三方四正、四化等）的关联，或说明缺少对应信息。\n",
    "4. 如存在重要空缺或需要额外检索的线索，单独列出。\n",
    "5. 不做结论或建议；不要编造命盘或文段外的信息。\n",
    "\n",
    "输出格式:\n",
    "关键信息:\n",
    "- … \n",
    "- …\n",
    "命盘关联:\n",
    "- …\n",
    "- …\n",
    "信息缺口:\n",
    "- …\n",
    "\"\"\"\n",
    "\n",
    "answer_prompt_text = \"\"\"\n",
    "角色: 你是专业紫微斗数顾问，需要结合摘要要点与命盘回答用户问题。\n",
    "\n",
    "输入:\n",
    "- 用户命盘: {user_chart}\n",
    "- 用户问题: {user_question}\n",
    "- 摘要要点: {summary_text}\n",
    "\n",
    "指令:\n",
    "1. 基于摘要要点,结合命盘结构说明关键影响,如果摘要的信息没办法回答请用你多年紫薇斗数的经验来回答问题\n",
    "2. 明确回答用户问题，分条阐述理由。\n",
    "3. 请尽量给出谨慎、可执行的建议\n",
    "4. 全文使用中文，条理清晰。\n",
    "\n",
    "输出格式:\n",
    "最终结论: …\n",
    "关键理由:\n",
    "- …\n",
    "- …\n",
    "建议:\n",
    "- …\n",
    "\"\"\"\n",
    "\n",
    "query_prompt = PromptTemplate(\n",
    "    input_variables=[\"user_question\", \"user_chart\"],\n",
    "    template=query_prompt_text\n",
    ")\n",
    "summary_prompt = PromptTemplate(\n",
    "    input_variables=[\"user_question\", \"user_chart\", \"retrieved_passages\"],\n",
    "    template=summary_prompt_text\n",
    ")\n",
    "answer_prompt = PromptTemplate(\n",
    "    input_variables=[\"user_question\", \"user_chart\", \"summary_text\"],\n",
    "    template=answer_prompt_text\n",
    ")\n",
    "\n",
    "query_chain = query_prompt | llm\n",
    "summary_chain = summary_prompt | llm\n",
    "answer_chain = answer_prompt | llm\n"
   ]
  },
  {
   "cell_type": "code",
   "execution_count": 5,
   "metadata": {},
   "outputs": [],
   "source": [
    "def parse_json_list(raw_text: str) -> List[str]:\n",
    "    start = raw_text.find('[')\n",
    "    end = raw_text.rfind(']')\n",
    "    if start == -1 or end == -1:\n",
    "        return []\n",
    "    try:\n",
    "        return json.loads(raw_text[start:end + 1])\n",
    "    except json.JSONDecodeError:\n",
    "        return []\n",
    "\n",
    "def generate_queries(question: str, user_chart: Dict[str, Any], top_n: int = 3) -> List[str]:\n",
    "    ai_message = query_chain.invoke({\"user_question\": question, \"user_chart\": user_chart})\n",
    "    queries = parse_json_list(ai_message.content)\n",
    "    return queries[:top_n] if top_n else queries\n",
    "\n",
    "def retrieve_documents(queries: Iterable[str]) -> List[Any]:\n",
    "    seen_doc_ids = set()\n",
    "    aggregated = []\n",
    "    for q in queries:\n",
    "        docs = compression_retriever.invoke(q)\n",
    "        for doc in docs:\n",
    "            doc_id = doc.metadata.get('doc_id') or doc.metadata.get('source') or doc.metadata.get('id')\n",
    "            key = doc_id or id(doc)\n",
    "            if key in seen_doc_ids:\n",
    "                continue\n",
    "            seen_doc_ids.add(key)\n",
    "            aggregated.append(doc)\n",
    "    summarized_docs = pretty_print_docs(aggregated)\n",
    "    return summarized_docs\n",
    "\n",
    "def summarize_passages(question: str, user_chart: Dict[str, Any], passages: str) -> str:\n",
    "    payload = {\n",
    "        \"user_question\": question,\n",
    "        \"user_chart\": user_chart,\n",
    "        \"retrieved_passages\": passages\n",
    "    }\n",
    "    ai_message = summary_chain.invoke(payload)\n",
    "    return ai_message.content\n",
    "\n",
    "def answer_question(question: str, user_chart: Dict[str, Any], summary_text: str) -> str:\n",
    "    payload = {\n",
    "        \"user_question\": question,\n",
    "        \"user_chart\": user_chart,\n",
    "        \"summary_text\": summary_text\n",
    "    }\n",
    "    ai_message = answer_chain.invoke(payload)\n",
    "    return ai_message.content\n"
   ]
  },
  {
   "cell_type": "code",
   "execution_count": 7,
   "id": "6c76bb4c",
   "metadata": {},
   "outputs": [
    {
     "name": "stderr",
     "output_type": "stream",
     "text": [
      "INFO:httpx:HTTP Request: POST https://api.openai.com/v1/chat/completions \"HTTP/1.1 200 OK\"\n"
     ]
    },
    {
     "name": "stdout",
     "output_type": "stream",
     "text": [
      "生成的检索查询: ['夫妻宫 天钺 感情婚姻 解释', '命宫 廉贞破军 感情婚姻 解释', '夫妻宫 遇 天钺 作用']\n"
     ]
    }
   ],
   "source": [
    "# 示例：完整运行一遍流程\n",
    "question = \"我什么时候能遇到正缘？\"\n",
    "user_chart = full_chart_generation(\"1994-8-25\", 11, \"男\")\n",
    "\n",
    "queries = generate_queries(question, user_chart, top_n=5)\n",
    "print('生成的检索查询:', queries)"
   ]
  },
  {
   "cell_type": "code",
   "execution_count": 8,
   "id": "eb4a57e6",
   "metadata": {},
   "outputs": [],
   "source": [
    "retrieved_docs = retrieve_documents(queries)"
   ]
  },
  {
   "cell_type": "code",
   "execution_count": 10,
   "id": "abe3adf7",
   "metadata": {},
   "outputs": [
    {
     "name": "stdout",
     "output_type": "stream",
     "text": [
      "Document 1:\n",
      "☆11、天相星(夫妻宫) \n",
      " 配偶俊美，气质高尚，少说话，行事谨慎，外向，贤惠诚恳，爱家庭，但好打扮，爱听好话。有亲上加亲的说法，配偶是老相识、同事、同学或邻居，或是亲友介绍撮合而成。婚姻多吉利，在失陷时差些。天相与右弼同宫，男命为好格局，配偶环境好，夫荣妻贵；庙旺更佳，若命宫无正星则中途会有变化；女命丈夫虽富贵，不免有偏房的性质，可能为二奶或继室。财荫夹，男得妻家助力，妻子为贤内助。刑忌夹或刑囚夹，配偶事业不利，甚则官司牢灾；又见空劫陀，一生难得婚姻机会，独身主义。火铃同，不投缘，离异。见六吉单星（右弼除外）或见六吉对星又会另一单星者，反主有二婚。男命宜兼看太阴，女命宜兼看太阳，二星吉则和美，凶则有咎。亦宜兼看天府，吉则更吉，凶则更凶。加桃花星，有外遇；加天姚，为色情损名破财。 \n",
      " 入庙，男女皆有才华，男可配相貌出众而贤惠的妻子，女则配有气质高尚、称心如意的丈夫，配偶宜年长或年龄相差不大。加吉更美。加煞及左辅则不和，甚则有刑克或离异。 \n",
      " 失陷，夫妻性情不太协调，但能偕老。加吉和谐。加煞及左辅单星则会刑克或离异。 \n",
      " 丑未宫，配偶能干。男妻子当家作主，有纳妾的可能。女命丈夫事业有成，富贵荣显。加右弼单星吉，加左辅单星反为不好，有第三者插足，易有两度婚姻。煞刑忌重重，终生孤独，有独身倾向。会廉贞化忌，主分离。会贪狼化忌，被人夺爱。加昌曲，生离死别。 \n",
      " 已亥宫，配偶事业心重，或重朋友情义而冷落娇妻，感情平淡。男命妻子在外多应酬活动。武梁夹或财荫夹，配偶助力大。加煞刑忌主刑克、生离，配偶多灾病。刑忌夹，不利配偶、婚姻。最嫌武曲化忌，主配偶有意外或灾病，不投缘，重则中途生离死别。 \n",
      " 卯酉宫，感情不和，但可从一而终。加吉男妻为贤妻良母，女命丈夫情深。加煞刑主刑克、生离，配偶多灾病。不喜会廉贪武化忌，最嫌武曲化忌，主配偶贫困或灾病。\n",
      "----------------------------------------------------------------------------------------------------\n",
      "Document 2:\n",
      "☆15、其它星(夫妻宫) \n",
      " 文昌一一夫妻恩爱，配偶聪明而有高雅的爱好，动作稍迟钝。本星及主星庙旺，婚姻较理想，加吉更美。紫府相阴阳禄魁钺左右曲同宫，主配偶知识水平高，富贵。左右同宫，妻美，自己有外遇。加魁钺禄，富贵幸福。陷地或加六煞（最忌空劫），不和，刑克或生离，多婚再婚；陷地加六煞，更凶，应小心夫妻之间对话方式。男命，对异性很有吸引力，妻子年少，天生丽质，娇小玲珑，具文学气息，喜打扮；机梁同宫，妻子很美。女命，家世好，丈夫年长，聪明英俊，喜文学；本星及主星庙旺无煞则丈夫富贵，婚姻较理想，加吉更美；主星陷地加煞，刑克配偶。和天机太阴同宫，则妻子美貌，若能事美容服饰职业最好。 \n",
      " 逢化科，与配偶缘份好，有文学才华，学识渊博，妻少夫贵。逢化忌，精神上不能沟通，对配偶不满；配偶的文学才华虚伪不实；分居，甚则离婚或有刑讼事。 \n",
      " 文曲星一一对感情敏感，初期甜蜜，后易情绪化，会早婚，夫妻恩爱，配偶聪明 \n",
      " 而有高雅的文学艺术爱好，能言善辩，幽默情趣，有引人的魅力。男妻贤美而爱打扮。女夫英俊高大，智力过人，宜年长。本星及主星庙旺，婚姻较理想。加吉，婚姻美满。加左右，妻秀美。与太阴同宫，男得贤妻，得妻或女人助而成功。与贪狼同，多有外遇。与武曲、太阳同，男女个性刚强，欠和，但不会有刑克。加魁钺禄，富贵荣显。加煞，会变得轻浮，成为不和或离异的原因；加空劫难偕老。陷地加煞更凶，会有刑克。 \n",
      " 逢化科，配偶多才多艺，有才或有貌，有名气，随和，但较风流，易与已婚者同居。逢化忌，非礼成婚，不是合不来就是生离死别；亦主婚姻证书出问题，或有刑讼事；加煞，离异时有拖拉之象。 \n",
      " 命宫有桃花，夫妻宫逢昌曲，男命妻貌美心细，易有情妇、外遇；女命易和另一男人有过情感，有被金屋藏娇的可能，双方均易有外遇。昌或曲与化禄权机阴同宫亦有外遇。 \n",
      " 昌或曲独守夫妻宫，或单一星进入夫妻宫，三十岁前易有第三者介入，是本人的桃花而非配偶的桃花。女命逢昌曲，会有外遇，易被金屋藏娇或再婚。 \n",
      " 文曲星和文昌星两星在夫妻宫，三妾四房比较多，加上擎羊陀罗火星铃星天空地劫，亦主众女人互相争宠。 \n",
      " 左辅右弼一一对婚姻不利，有“再一次”之意。主配偶俊秀，遇吉则美，逢恶煞主桃花。男命有外遇或金屋藏娇。一般只见单星主第三者介入。二星独守，不是有二度婚姻，就是配偶先亡。左辅星，可能再婚，有公开的情人。右弼，桃花更大，可能再婚，有私情、单恋和秘密的情人。配偶年长及晚婚，或婚前多波折者可偕老。与杀破贪武廉巨六煞忌同宫，主刑克、离异。加会火、羊，即使逢左右双星，亦主婚变或婚前婚后失足。左右同宫或会照，夫妻偕老较多，且主配偶得力，双方同心协力而大有发展；丑未二宫仍主波折分离；若无正星亦主感情多波折；逢廉贞、梁同、机巨、日月、武曲等星系，爱情婚姻多波折悲剧，虽得力而难偕老，再加照火铃，必生离；与机或阴同宫或会照，主本人有外遇，加煞主桃色事暴光。 \n",
      " 左辅星和太阴太阳巨门天机武曲七杀同宫，夫妻主分离。加上擎羊陀罗火星铃星天空地劫贪狼廉贞，则宜娶年长刚强之妻。 \n",
      " 右弼星和太阴太阳巨门天机武曲七杀同宫，夫妻主分离。；加擎羊陀罗火星铃星天空地劫贪狼廉贞，则宜娶年长刚强之妻。 \n",
      " 左辅化科，配偶不是贤贵就是貌美，但有外遇或三角恋爱婚姻，第二春（即第二次婚姻才美）。右弼化科，配偶有才或有貌或有贵气，但易有第三者介入，分居，离婚，多是老夫少妻，第二春。 \n",
      " 魁钺一一婚姻和谐吉美，配偶家世富贵。多主夫妻美貌双全，加庙旺的主星吉星，主婚后得配偶之助而富贵荣显。会爱恋比自己大的异性，男天钺女天魁会爱上教师、上司、表兄姐的倾向。加六煞化忌，主不和吵架，甚则生离。天魁与红喜天姚咸池沐浴同宫，易有感情困扰。天钺会右弼，女不吉，男无妨。天钺会化科，女命感情复杂。宜双星同会于三方四正宫，若逢单星且又阴阳失调（即魁逢阳星，钺逢阴星），再见煞，必有事端，一般为两次婚姻，再见桃花星定是。 \n",
      " 禄存一一配偶多为富裕型，体态丰满肥胖，聪明，爱好储蓄，吝惜钱财，用钱有计划，男女均宜晚婚，男妻年轻、远方人、得妻财。独守，配偶为守财奴，一毛不拨，感情单调无情趣，命宫有凶星主生离。加六煞主有波折、刑克、生离。加截空、空劫、空亡，男女均较难结婚，过着孤独的生活，结婚则刑克、生离。加左右，妻子年龄差距很大，晚婚则吉。女命加七杀、空劫，为偏房或填房命。 \n",
      " 天马一一配偶为外乡人，在家勤快，常在外跑动，若与机梁同宫，更是常出远门，有异地分居之象，或天各一方，聚少离多。会禄存或加吉，男娶贤能之妻，得妻财或妻家助力，婚后发财；女命旺夫，丈夫富贵；夫妇和谐快乐。无禄无吉则不主发财。加空劫、截空、空亡、煞忌，则不利，男女孤寡、生离死别。与化忌同宫，妻子与人私奔。 \n",
      " 火铃一一主凶，不和、分离、刑克，大多为迟婚，恋爱不顺，婚后多争吵动粗，配偶性刚急躁。与失陷的正星同宫，必离。加煞忌武廉巨杀破贪，不论旺衰，不生离则刑克。入庙配偶事业可成，加魁钺则不克。失陷离异、刑克，配偶辛劳多波折，夫妇不和，聚少离多，煞多刑克更重；逢空劫羊陀夹，亦主刑克、分离。火星，闪电式的婚姻。 \n",
      " 羊陀一一主凶，吵架动粗、刑克、离异。配偶脾气不好，多冲突，头面有伤。入庙，不算很坏，刑克稍轻，感情时好时坏。与失陷正星同宫，不离则克。陷地克重，聚少离多，子午卯酉更不吉。擎羊主吵闹，陀罗主冷战。再加凶星，会丧偶。陀罗，恋爱、结婚、离婚都会拖延。晚婚可减凶。夫妻宫有驼罗：婚前受到阻力，否则婚后必然腰疼。 \n",
      " 羊陀与武廉贪巨杀破火铃忌空劫同宫，必离，否则克死。夫妻宫逢四煞星，如无吉解，一般多有刑克，起码主婚姻不顺。四煞与吉星混杂，配偶身体不好。 \n",
      " 天空地劫一一主凶，不和，分离，甚则刑克，婚后与配偶感情日趋冷淡。天空婚后多波折或多婚。地劫婚前多波折或多婚，配偶损财败业。配偶较悲观、空虚，加凶星虚诈。主星庙旺吉众，或加魁钺则不克，但主不和。与杀破同宫而无红喜天姚咸池同宫，主异性缘少。与空亡同宫，知音难求。空劫夹，聚少离多，多波折，离异等。与四煞廉杀破贪巨同宫，重克，生离死别。截空亦同断，且感情难沟通。 \n",
      " 沐浴、咸池——主有实质性的桃花，即肉欲桃花。 \n",
      " 天姚一一婚姻生活多情趣，夫妻均易有偷情外遇，甚则重婚离婚，加化忌破军左右更验，再加煞曜，主拼居而终生难获正婚。加化权主有外遇。自己正气则配偶风骚多情、好妆扮。 \n",
      " 红鸾天喜一一主男娶美妻，女嫁俊夫，夫妻情浓意密，早婚。逢煞恶，主夫妇不和，有凶星主晚婚。红鸾主嫁娶，天喜主喜庆。红鸾会天姚，为真桃花，即实质性的肉欲桃花。 \n",
      " 化禄——无煞忌，能关心配偶，仍算较好，亦主配偶善于理财，事业顺遂，但异性缘较多。不逢空劫耗忌，并与吉星守照，男娶富妻，女嫁富夫。加煞恶，刑克离异。 \n",
      " 化权一一配偶能干稳重，有主见，较固执霸道，在家指手划脚，喜掌支配权。不逢煞恶，并得众吉守照，男娶贵家女，女嫁贵夫，配偶有威权，事业有成。自己主动追求对方，且交往较久才能结婚。化权在对宫，对方主动追求自己。加煞忌诸恶，刑克分离。 \n",
      " 化科一一配偶文雅，比较随和，在文学艺术上较有爱好和才华，有声誉，主星庙旺加吉尤美。恋爱较久才能结婚，且是公证结婚。加煞恶则婚姻不顺，甚则生离刑克。 \n",
      " 化忌一一主凶，感情不和，互相猜忌，情绪变化很大，常吵闹，离异，多婚，第一次恋爱难成功或晚婚。配偶有神经质，多疑多虑、自私小气、嫉妒虚伪、无事生非、多病伤。主星陷地化忌，大凶，武廉巨昌曲等星最凶。唯有主星庙旺于子丑宫，并得吉星守会照，且晚婚、分居，可免克。对宫化忌来冲，配偶管得很严，对宫或夫妻宫有煞均为引爆，离异，刑克很重。与武杀破廉巨同宫，刑克离异。加六煞，男女孤寡，配偶先死。与天马同宫，妻子与人私奔。 \n",
      " 孤辰寡宿——有孤独感，六亲不和，夫妇不和，一生中有一段时间与配偶分离或分居。轻则不和，重则生离、刑伤。无吉加煞，终生不能婚娶，只宜僧道。三方四正不吉，则有刑克，多婚仍克，最后仍孤独一身；三方加会凶星，很难成婚或很迟才成婚，早婚必主离婚。已婚人，大限遇孤寡加煞易分离，流年遇不一定离婚，仅至分居一段时间。 \n",
      " 天哭天虚——夫妻常有不顺、虚假之事发生，正星失陷时更验。正星庙旺或有禄马可解。 \n",
      " 阴煞、伏兵一一夫妻间常有莫明其妙的争吵，隐伏危机。 \n",
      " 破碎——不吉，能坏事也能成事，走极端，有支离破碎之意，夫妻感情不好。表有一段时期感情或婚姻有争执、聚散的事发生。 \n",
      " 三台八座一一二星同守则美，白头偕老；分值且宫凶者则主男女分离。配偶重名利。 \n",
      " 华盖一一配偶聪明，但有孤独感。 \n",
      " 天刑一一卯时生人，天刑必入夫妻宫。主不和，刑克，配偶多带刑伤。庙旺加吉仍主欠和。男主迟婚，妻刚强，女欺夫。陷地或加煞忌，刑克、离异，男女孤寡。宜聚少离多。\n",
      "----------------------------------------------------------------------------------------------------\n",
      "Document 3:\n",
      "☆13、七杀星(夫妻宫) \n",
      " 婚姻不顺，初恋不成，易一见钟情，会闪电式或草率结婚，见昌曲更验，感情不长久。有与异国、异省、异乡人通婚的可能，夫妻年龄相差较大。夫妇性格不合，为同床异梦型，感情淡薄，中年后有分床分居的可能，在辰戌宫更验，寅申宫则主不和。配偶个性强硬好胜，有踏实的婚恋观，对自己和对方要求严格，婚后在感情上肃杀清凉，人生观不同，缺乏情趣，或热衷于事业，少关心家庭，所以多波折，争执不断，聚少离多，同屋分房，甚则离异，正所谓“七杀夫妻，鸳鸯半冷”。早婚男女皆刑克，迟婚和各自为政、各有独立事业，或分居分床可减少波折而能偕老。旺地亦主不和，加吉星中老年美满；无煞有禄存，和谐，配偶发财于远方。加六煞，刑克较重，感情变化大，主中途分离，有丧偶的可能，或结了又离，离了又结，甚则克三个而不休。火铃或羊陀会照，早年恋爱多波折，而至草率成婚，婚后感情亦冷漠。空劫同或夹，感情始热终冷，且事业不利。会贪狼化忌，更见煞，主被人夺爱。擎羊同，见天刑、天月、病符、天虚，又见廉贞化忌，主配偶多灾病；又见吉星，主夫妻有名无实。对宫天府，对婚姻有一定的影响，若空露则主婚后贫困，若命宫吉者主配偶出身贫穷，更见煞忌，主受拖累而破败。子午卯酉，夫妻难到头。 \n",
      " 七杀的婚姻感情较冷淡但理智，破军起伏大且欠理智，贪狼多为酒色财气而争执。 \n",
      " 男命，不吉之兆，妻子精明强干，恶老虎，较会有神经质，遇惊险会想不开。女命，比男命吉，丈夫有责任感，事业有成，很固执，急躁，不讲情理，乱发脾气；宜晚婚、偏房；若武曲守命，离婚后可能独身。 \n",
      " 子午寅申宫，总体情况如上所述。配偶并非是自己真心所爱的人，迟婚可偕老。加吉禄存化吉，配偶精明有为，助力大，但仍主婚前恋爱多波折。加六吉单星，感情不专，配偶有外情，再婚。加煞，配偶多灾病或贫困，或离异；有吉亦主苦恋，婚后仍难以忘怀而感到痛苦；再会化忌，刑克极重，三度婚姻，或配偶病伤、牢狱、死亡。子午宫太太个性强烈，会武曲化禄，主发财或事业发达，但有妇夺夫权，妻掌财权。寅申宫多桃花，会破军化禄，有火铃会照，仍主二婚。寅申宫，女人守活寡，老公常 \n",
      " 不回家。 \n",
      " 辰戌宫，婚前情海波烂，婚后争执不和、感情淡薄、分居、离异。加吉化吉，婚前多波折，但终能得到理想的配偶，配偶事业有成。加煞或见六吉单星，主有情无缘、有缘无情，或主婚后仍有感情困扰。逢对宫廉贞化禄，婚姻和美；化忌则生离死别；煞重主离后再克，克后再离。\n",
      "----------------------------------------------------------------------------------------------------\n",
      "Document 4:\n",
      "第九章 诸星落诸宫参断(命宫) \n",
      " 本章讨论诸星落命宫之外的十一宫情况，有关说明参看第八章。本章较少考虑三方四正宫，所以在分析时宜多加注意，尤其注意对宫的影响。从对应六亲宫中，可以看出六亲的品貌、性情、富贵贫贱等情况，以及与本人关系的疏密等。具体仍宜结合“命宫”一章有关星曜的性情内容进行参详。但各个六亲，尤其是兄弟和子女，数量众多，出生的时空场不同，受到宇宙力的作用不同，容貌性情才华成就必然不同，从六亲宫查出的六亲容貌性情才华及成就只是一个大概趋向，或只能反映出其中某六亲的情况。所以六亲的具体情况，可从兄弟、子女排行相应官位的星情来兼看，最好以其本人的生辰八字推排出的命盘来分析论断为准。 \n",
      " 还可以六亲宫为新命宫，重布十二宫来考察六亲各方面的情况。\n",
      "----------------------------------------------------------------------------------------------------\n",
      "Document 5:\n",
      "伤使祸害紧慢情况如下：(命宫) \n",
      " 天伤子辰卯午未宫祸紧；天使丑卯酉辰戌宫祸紧；寅申巳亥宫天伤天使皆为祸紧。凡太岁大小限到此，无救必凶，有救无妨（主星庙旺、三方吉拱为有救）。大小限太岁重叠更凶。\n",
      "----------------------------------------------------------------------------------------------------\n",
      "Document 6:\n",
      "☆12、天梁星(夫妻宫) \n",
      " 天梁带有孤克及先逢灾难然后得解救的性质。一般男女皆吉，主婚前初恋失败，加煞则终生对此不能忘怀，甚至痛苦一生。经过挫折后一般多能珍惜得来的感情，婚姻较为美满，家庭幸福，与天同或天机同宫者，更吉。若婚前恋爱顺利，则婚后多波折，可能会因故被逼中途分离一段时间，无煞能复合且更有感情，加吉复合且更加恩爱，加煞刑忌则难复合。配偶宜比自己大三岁以上较好。配偶俊美，志向远大，乐善好施，喜管家权。男妻个性倔强固执，但稳重老成，贤淑，善理家务，象老大姐一样，对丈夫体贴且能助夫，能娶到美丽大方又从美容专业服饰最合适。女夫坚强，清高慈祥，喜掌权。加吉夫妻感情深厚，且有富贵。加煞及左右单星，夫妻不和，煞多则婚 \n",
      " 变，在子宫尤甚。天马同，因环境所逼而远离或分散；至夫妻宫入吉的限年，破镜重圆；加煞刑忌则中途决裂而难复合。加桃花星主风流好色。 \n",
      " 天梁的离异多属人力难控制的意外事故造成，如战争、天灾等。 \n",
      " 天梁籍太阳来解其孤克之性，故须兼看太阳，庙旺则吉，陷地则凶，女命更是。 \n",
      " 天梁化权禄，反易有感情风波，女命更不利，婚前会与有妇之夫发生感情。化禄，稳重，对配偶关怀，老夫少妻之配。化权，配偶能干，事业有成，有家庭责任心，能互相帮助，老妻少夫。化科，玉洁冰清，配偶有为有成，互相帮助，老妻少夫。 \n",
      " 子午宫，男妻子比自己大，且比自己有才干，助夫。女命丈夫很重视事业，少顾家庭。对宫化忌来冲，会娶离过婚的女人为妻，或受拖累。会太阴化忌，配偶贫困或出身贫苦；会太阴化禄加吉，主配偶家庭富裕或事业发达。加空劫，会离婚，再找离过婚的女人结婚。 \n",
      " 丑未宫，感情深厚。男妻子宜年长。婚前婚后可能会因故被逼分离，加吉可复合且更加恩爱。加四煞天马主不和而离婚。未宫，因所会的阴阳均失陷，婚姻必有挫折是非；若又逢化忌，则因配偶灾病而受拖累；加煞主离异。丑宫日月庙旺，婚姻和美，加吉更佳，但仍主因工作关系而聚少离多；加煞忌，虽不美，亦较未宫为好。 \n",
      " 已亥宫，恋爱多波折，容易分离，加吉能重归于好。加煞忌，主分离或配偶多病灾。对宫化忌冲照，更主分离；更见煞会照，尤其火铃同，主一离再离。加禄马亦易分离。\n"
     ]
    }
   ],
   "source": [
    "print(retrieved_docs)"
   ]
  },
  {
   "cell_type": "code",
   "execution_count": 12,
   "id": "cacacfd2",
   "metadata": {},
   "outputs": [
    {
     "name": "stderr",
     "output_type": "stream",
     "text": [
      "INFO:httpx:HTTP Request: POST https://api.openai.com/v1/chat/completions \"HTTP/1.1 200 OK\"\n"
     ]
    },
    {
     "data": {
      "text/plain": [
       "'关键信息:\\n- 天相星在夫妻宫，配偶性格外向、贤惠，可能是老相识或由亲友介绍，婚姻多吉利。\\n- 天相与右弼同宫，男命有良好配偶环境，若命宫无正星则可能会有变化。\\n- 夫妻宫中有煞星或刑克，可能导致婚姻不和、分离或多婚。\\n- 七杀星在夫妻宫，婚姻不顺，配偶个性强硬，可能导致感情淡薄和争执。\\n- 天梁星在夫妻宫，主婚前初恋失败，婚后可能经历波折，但若无煞则可复合。\\n- 文曲星在夫妻宫，配偶聪明且有高雅爱好，婚姻较理想，若加煞则可能不和。\\n\\n命盘关联:\\n- 用户命盘中夫妻宫主星为天相，辅星为天钺，符合天相星的描述，可能有良好的配偶环境。\\n- 命盘中缺少明显的桃花星，可能影响正缘的出现。\\n- 夫妻宫的煞星和刑克情况未详细列出，可能影响婚姻的稳定性。\\n\\n信息缺口:\\n- 夫妻宫的具体煞星和刑克情况缺失，需进一步确认以评估婚姻的潜在风险。\\n- 缺少对命宫中桃花星的具体分析，可能影响正缘的出现时间和质量。'"
      ]
     },
     "execution_count": 12,
     "metadata": {},
     "output_type": "execute_result"
    }
   ],
   "source": [
    "summary_text = summarize_passages(question, user_chart, retrieved_docs)\n",
    "summary_text"
   ]
  },
  {
   "cell_type": "code",
   "execution_count": 13,
   "id": "37cf2842",
   "metadata": {},
   "outputs": [
    {
     "name": "stdout",
     "output_type": "stream",
     "text": [
      "关键信息:\n",
      "- 天相星在夫妻宫，配偶性格外向、贤惠，可能是老相识或由亲友介绍，婚姻多吉利。\n",
      "- 天相与右弼同宫，男命有良好配偶环境，若命宫无正星则可能会有变化。\n",
      "- 夫妻宫中有煞星或刑克，可能导致婚姻不和、分离或多婚。\n",
      "- 七杀星在夫妻宫，婚姻不顺，配偶个性强硬，可能导致感情淡薄和争执。\n",
      "- 天梁星在夫妻宫，主婚前初恋失败，婚后可能经历波折，但若无煞则可复合。\n",
      "- 文曲星在夫妻宫，配偶聪明且有高雅爱好，婚姻较理想，若加煞则可能不和。\n",
      "\n",
      "命盘关联:\n",
      "- 用户命盘中夫妻宫主星为天相，辅星为天钺，符合天相星的描述，可能有良好的配偶环境。\n",
      "- 命盘中缺少明显的桃花星，可能影响正缘的出现。\n",
      "- 夫妻宫的煞星和刑克情况未详细列出，可能影响婚姻的稳定性。\n",
      "\n",
      "信息缺口:\n",
      "- 夫妻宫的具体煞星和刑克情况缺失，需进一步确认以评估婚姻的潜在风险。\n",
      "- 缺少对命宫中桃花星的具体分析，可能影响正缘的出现时间和质量。\n"
     ]
    }
   ],
   "source": [
    "print(summary_text)"
   ]
  },
  {
   "cell_type": "code",
   "execution_count": 14,
   "metadata": {},
   "outputs": [
    {
     "name": "stderr",
     "output_type": "stream",
     "text": [
      "INFO:httpx:HTTP Request: POST https://api.openai.com/v1/chat/completions \"HTTP/1.1 200 OK\"\n"
     ]
    },
    {
     "name": "stdout",
     "output_type": "stream",
     "text": [
      "最终回答: 最终结论: 您在未来的几年内有机会遇到正缘，但需注意婚姻中的潜在波折和不和。\n",
      "\n",
      "关键理由:\n",
      "- 您的夫妻宫主星为天相，辅星为天钺，表明您有良好的配偶环境，可能会遇到性格外向、贤惠的伴侣，且婚姻多吉利。\n",
      "- 然而，命盘中缺少明显的桃花星，这可能影响正缘的出现时间和质量，导致您在感情方面的机会相对较少。\n",
      "- 夫妻宫中可能存在一些煞星或刑克的情况，这可能会影响婚姻的稳定性，导致感情中的争执和波折。\n",
      "\n",
      "建议:\n",
      "- 在未来的1-3年内，积极参与社交活动，扩大人际圈，增加遇到正缘的机会。\n",
      "- 尽量保持开放的心态，接受朋友或亲友的介绍，可能会有意想不到的收获。\n",
      "- 在感情中要注意沟通，避免因性格差异导致的争执，尤其是在婚姻初期。\n",
      "- 如果可能，建议进行命理咨询，进一步分析夫妻宫的煞星和刑克情况，以便更好地应对未来的感情挑战。\n"
     ]
    }
   ],
   "source": [
    "final_answer = answer_question(question, user_chart, summary_text)\n",
    "print('最终回答:', final_answer)"
   ]
  }
 ],
 "metadata": {
  "kernelspec": {
   "display_name": "zhiweidoushu",
   "language": "python",
   "name": "python3"
  },
  "language_info": {
   "codemirror_mode": {
    "name": "ipython",
    "version": 3
   },
   "file_extension": ".py",
   "mimetype": "text/x-python",
   "name": "python",
   "nbconvert_exporter": "python",
   "pygments_lexer": "ipython3",
   "version": "3.10.17"
  }
 },
 "nbformat": 4,
 "nbformat_minor": 5
}
