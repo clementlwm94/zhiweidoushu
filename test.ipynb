{
 "cells": [
  {
   "cell_type": "code",
   "execution_count": 4,
   "id": "029832c3",
   "metadata": {},
   "outputs": [],
   "source": [
    "from py_iztro import Astro\n",
    "import json\n",
    "astro = Astro()\n",
    "astrolabe = astro.by_solar(\"1994-8-25\", 11, \"男\",)\n",
    "astro_info = json.loads(astrolabe.model_dump_json())\n",
    "astro_star_dat = astro_info['palaces']"
   ]
  },
  {
   "cell_type": "code",
   "execution_count": null,
   "id": "aff3b2fe",
   "metadata": {},
   "outputs": [
    {
     "name": "stdout",
     "output_type": "stream",
     "text": [
      "\n",
      "    性别：男\n",
      "    生日：1994-8-25\n",
      "    八字：甲戌 壬申 癸未 癸亥 亥时\n",
      "    \n"
     ]
    }
   ],
   "source": [
    "def person_infomation_extraction(astro_info):\n",
    "    text_tmp = f\"\"\"\n",
    "    性别：{astro_info['gender']}\n",
    "    生日：{astro_info['solar_date']}\n",
    "    八字：{astro_info['chinese_date']} {astro_info['time']}\n",
    "    \"\"\"\n",
    "    return text_tmp"
   ]
  },
  {
   "cell_type": "code",
   "execution_count": 19,
   "id": "83d88d34",
   "metadata": {},
   "outputs": [],
   "source": [
    "def extract_major_stars(star_data):\n",
    "    \"\"\"Extract major stars information.\"\"\"\n",
    "    major_stars = star_data['major_stars']\n",
    "    major = []\n",
    "    for item in major_stars:\n",
    "        name = item['name']\n",
    "\n",
    "        if item['brightness'] != '':\n",
    "            brightness = '['+ item['brightness'] +']'\n",
    "        else:\n",
    "            brightness = ''\n",
    "\n",
    "        if item['mutagen'] and item['mutagen'] != '':\n",
    "            mutagen = f\"[生年{item['mutagen']}]\"\n",
    "        else:\n",
    "            mutagen = ''\n",
    "\n",
    "        major.append(name + brightness + mutagen)\n",
    "    return '主星: ' + '+'.join(major)\n",
    "\n",
    "\n",
    "def extract_minor_stars(star_data):\n",
    "    \"\"\"Extract minor stars information.\"\"\"\n",
    "    minor_stars = star_data['minor_stars']\n",
    "    minor = []\n",
    "    for item in minor_stars:\n",
    "        name = item['name']\n",
    "\n",
    "        if item['brightness'] != '':\n",
    "            brightness = '['+ item['brightness'] +']'\n",
    "        else:\n",
    "            brightness = ''\n",
    "\n",
    "        minor.append(name + brightness)\n",
    "    return '辅星: ' + '+'.join(minor)\n",
    "\n",
    "\n",
    "def extract_adjective_stars(star_data):\n",
    "    \"\"\"Extract adjective stars information.\"\"\"\n",
    "    adj_stars = star_data['adjective_stars']\n",
    "    adj = []\n",
    "    for item in adj_stars:\n",
    "        name = item['name']\n",
    "        adj.append(name)\n",
    "    return '小星: ' + '+'.join(adj)\n",
    "\n",
    "\n",
    "def extract_place_info(star_data):\n",
    "    \"\"\"Extract place information.\"\"\"\n",
    "    name = star_data['name']\n",
    "    stem = star_data['heavenly_stem']\n",
    "    branch = star_data['earthly_branch']\n",
    "    \n",
    "    place = name + ('宫' if '命宫' not in name else '') + '[' + stem + branch + ']'\n",
    "    return place\n",
    "\n",
    "\n",
    "def extract_big_limit(star_data):\n",
    "    \"\"\"Extract big limit (大限) information.\"\"\"\n",
    "    big_xian_range = star_data['decadal']['range']\n",
    "    return f\"大限:{big_xian_range[0]}~{big_xian_range[1]}虚岁\"\n",
    "\n",
    "\n",
    "def extract_small_limit(star_data):\n",
    "    \"\"\"Extract small limit (小限) information.\"\"\"\n",
    "    small_xian_ages = ','.join(map(str, star_data['ages']))\n",
    "    return \"小限:\" + small_xian_ages + \"虚岁\"\n",
    "\n",
    "\n",
    "\n",
    "def extract_single_place(star_data):\n",
    "    \"\"\"Extract complete information for a single place.\"\"\"\n",
    "    place = extract_place_info(star_data)\n",
    "    major_star = extract_major_stars(star_data)\n",
    "    minor_star = extract_minor_stars(star_data)\n",
    "    adj_star = extract_adjective_stars(star_data)\n",
    "    big_xian = extract_big_limit(star_data)\n",
    "    small_xian = extract_small_limit(star_data)\n",
    "\n",
    "    return f\"\"\"├{place}\n",
    "│├ {major_star}\n",
    "│├ {minor_star}\n",
    "│├ {adj_star}\n",
    "│├ {big_xian}\n",
    "│└ {small_xian}\"\"\"\n",
    "\n",
    "\n",
    "def generate_full_chart(astrolabe_data):\n",
    "    \"\"\"Generate complete astrology chart from astrolabe data.\"\"\"\n",
    "    total_text = []\n",
    "    \n",
    "    for star in astrolabe_data:\n",
    "        text_tmp = extract_single_place(star)\n",
    "        total_text.append(text_tmp)\n",
    "        \n",
    "    return '\\n'.join(total_text)"
   ]
  },
  {
   "cell_type": "code",
   "execution_count": null,
   "id": "dc179879",
   "metadata": {},
   "outputs": [],
   "source": [
    "def full_chart_generation(date,time,gender):\n",
    "    astrolabe = astro.by_solar(\"1994-8-25\", 11, \"男\",)\n",
    "    astro_info = json.loads(astrolabe.model_dump_json())\n",
    "    astro_star_dat = astro_info['palaces']\n",
    "\n",
    "    info_tmp = person_infomation_extraction(astro_info)\n",
    "    star_tmp = generate_full_chart(astro_star_dat)\n",
    "\n",
    "    text_tmp = f\"\"\"{info_tmp}\n",
    "\n",
    "{star_tmp}\n",
    "    \"\"\"\n",
    "\n",
    "    return(text_tmp)"
   ]
  },
  {
   "cell_type": "code",
   "execution_count": 5,
   "id": "88346ffc",
   "metadata": {},
   "outputs": [
    {
     "name": "stdout",
     "output_type": "stream",
     "text": [
      "Unexpected exception formatting exception. Falling back to standard exception\n"
     ]
    },
    {
     "name": "stderr",
     "output_type": "stream",
     "text": [
      "Traceback (most recent call last):\n",
      "  File \"/home/mameuio/zhiweidoushu/.venv/lib/python3.10/site-packages/IPython/core/interactiveshell.py\", line 3579, in run_code\n",
      "  File \"/tmp/ipykernel_75369/3865768070.py\", line 1, in <module>\n",
      "    print(full_chart_generation(0,1,2))\n",
      "  File \"/tmp/ipykernel_75369/2154673836.py\", line 6, in full_chart_generation\n",
      "    info_tmp = person_infomation_extraction(astro_info)\n",
      "NameError: name 'person_infomation_extraction' is not defined\n",
      "\n",
      "During handling of the above exception, another exception occurred:\n",
      "\n",
      "Traceback (most recent call last):\n",
      "  File \"/home/mameuio/zhiweidoushu/.venv/lib/python3.10/site-packages/pygments/styles/__init__.py\", line 45, in get_style_by_name\n",
      "ModuleNotFoundError: No module named 'pygments.styles.default'\n",
      "\n",
      "During handling of the above exception, another exception occurred:\n",
      "\n",
      "Traceback (most recent call last):\n",
      "  File \"/home/mameuio/zhiweidoushu/.venv/lib/python3.10/site-packages/IPython/core/interactiveshell.py\", line 2170, in showtraceback\n",
      "  File \"/home/mameuio/zhiweidoushu/.venv/lib/python3.10/site-packages/IPython/core/ultratb.py\", line 1457, in structured_traceback\n",
      "  File \"/home/mameuio/zhiweidoushu/.venv/lib/python3.10/site-packages/IPython/core/ultratb.py\", line 1348, in structured_traceback\n",
      "  File \"/home/mameuio/zhiweidoushu/.venv/lib/python3.10/site-packages/IPython/core/ultratb.py\", line 1195, in structured_traceback\n",
      "  File \"/home/mameuio/zhiweidoushu/.venv/lib/python3.10/site-packages/IPython/core/ultratb.py\", line 1085, in format_exception_as_a_whole\n",
      "  File \"/home/mameuio/zhiweidoushu/.venv/lib/python3.10/site-packages/IPython/core/ultratb.py\", line 1136, in get_records\n",
      "  File \"/home/mameuio/zhiweidoushu/.venv/lib/python3.10/site-packages/pygments/styles/__init__.py\", line 47, in get_style_by_name\n",
      "pygments.util.ClassNotFound: Could not find style module 'pygments.styles.default', though it should be builtin.\n"
     ]
    }
   ],
   "source": [
    "print(full_chart_generation(0,1,2))"
   ]
  }
 ],
 "metadata": {
  "kernelspec": {
   "display_name": "zhiweidoushu",
   "language": "python",
   "name": "python3"
  },
  "language_info": {
   "codemirror_mode": {
    "name": "ipython",
    "version": 3
   },
   "file_extension": ".py",
   "mimetype": "text/x-python",
   "name": "python",
   "nbconvert_exporter": "python",
   "pygments_lexer": "ipython3",
   "version": "3.10.17"
  }
 },
 "nbformat": 4,
 "nbformat_minor": 5
}
