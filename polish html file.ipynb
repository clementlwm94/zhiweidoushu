{
 "cells": [
  {
   "cell_type": "code",
   "execution_count": 1,
   "id": "e9e039c5",
   "metadata": {},
   "outputs": [],
   "source": [
    "from bs4 import BeautifulSoup\n",
    "with open('ziweidoushu book.html', \"r\", encoding=\"utf-8\") as f:\n",
    "    soup = BeautifulSoup(f, \"html.parser\")"
   ]
  },
  {
   "cell_type": "code",
   "execution_count": 3,
   "id": "8a222763",
   "metadata": {},
   "outputs": [],
   "source": [
    "list_to_check = [\"兄弟宫\",\"夫妻宫\",\"子女宫\",\"财帛宫\",\"疾厄宫\",\"迁移宫\",\"奴仆宫\",\"官禄宫\",\"田宅宫\",\"福德宫\",\"父母宫\"]\n",
    "\n",
    "text_tmp = \"(命宫)\"\n",
    "for h in soup.find_all(\"h1\"):\n",
    "    if any(item in h.string for item in list_to_check):\n",
    "        matches = [item for item in list_to_check if item in h.string]\n",
    "        text_tmp = \"(\"+matches[0]+\")\"\n",
    "    h.append(text_tmp)"
   ]
  },
  {
   "cell_type": "code",
   "execution_count": 4,
   "id": "e4d5fd23",
   "metadata": {},
   "outputs": [],
   "source": [
    "with open('ziweidoushu book2.html', \"w\", encoding=\"utf-8\") as f:\n",
    "    f.write(str(soup))"
   ]
  }
 ],
 "metadata": {
  "kernelspec": {
   "display_name": "zhiweidoushu",
   "language": "python",
   "name": "python3"
  },
  "language_info": {
   "codemirror_mode": {
    "name": "ipython",
    "version": 3
   },
   "file_extension": ".py",
   "mimetype": "text/x-python",
   "name": "python",
   "nbconvert_exporter": "python",
   "pygments_lexer": "ipython3",
   "version": "3.10.17"
  }
 },
 "nbformat": 4,
 "nbformat_minor": 5
}
